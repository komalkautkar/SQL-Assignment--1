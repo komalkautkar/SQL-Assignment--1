{
 "cells": [
  {
   "cell_type": "code",
   "execution_count": 13,
   "id": "85fe76ef",
   "metadata": {},
   "outputs": [],
   "source": [
    "###1.\tCreating a Data Base using SQLITE package"
   ]
  },
  {
   "cell_type": "code",
   "execution_count": 1,
   "id": "c636357d",
   "metadata": {},
   "outputs": [],
   "source": [
    "import sqlite3"
   ]
  },
  {
   "cell_type": "code",
   "execution_count": 4,
   "id": "b4855fe5",
   "metadata": {},
   "outputs": [],
   "source": [
    "db=sqlite3.connect(':memory:')           \n",
    "\n",
    "cursor=db.cursor()    "
   ]
  },
  {
   "cell_type": "code",
   "execution_count": null,
   "id": "1fb1b879",
   "metadata": {},
   "outputs": [],
   "source": [
    "###2.\tCreate a Table with the Name “Ages” "
   ]
  },
  {
   "cell_type": "code",
   "execution_count": 5,
   "id": "e43901af",
   "metadata": {},
   "outputs": [
    {
     "data": {
      "text/plain": [
       "<sqlite3.Cursor at 0x1f002a68840>"
      ]
     },
     "execution_count": 5,
     "metadata": {},
     "output_type": "execute_result"
    }
   ],
   "source": [
    "\n",
    "\n",
    "cursor.execute('''\n",
    "create table Ages(\n",
    "name varchar(128),\n",
    "age int)''')"
   ]
  },
  {
   "cell_type": "code",
   "execution_count": 6,
   "id": "90b22918",
   "metadata": {},
   "outputs": [
    {
     "data": {
      "text/plain": [
       "<sqlite3.Cursor at 0x1f002a68840>"
      ]
     },
     "execution_count": 6,
     "metadata": {},
     "output_type": "execute_result"
    }
   ],
   "source": [
    "cursor.execute(\"Delete from Ages\")"
   ]
  },
  {
   "cell_type": "code",
   "execution_count": null,
   "id": "b73a044c",
   "metadata": {},
   "outputs": [],
   "source": [
    "###3.\tInsert the atleast 5 rows into the table "
   ]
  },
  {
   "cell_type": "code",
   "execution_count": 8,
   "id": "270fc186",
   "metadata": {},
   "outputs": [
    {
     "data": {
      "text/plain": [
       "<sqlite3.Cursor at 0x1f002a68840>"
      ]
     },
     "execution_count": 8,
     "metadata": {},
     "output_type": "execute_result"
    }
   ],
   "source": [
    "cursor.execute('''Insert into Ages (name, age) values ('Mara',28)''')\n",
    "cursor.execute('''Insert into Ages (name, age) values('Otto',33)''' )\n",
    "cursor.execute('''Insert into Ages (name, age) values ('Fyn',31)''')\n",
    "cursor.execute('''Insert into Ages  (name, age) values ('Neshawn',17)''')  \n",
    "cursor.execute('''Insert into Ages (name, age) values ('Komal',30) ''')\n",
    "               \n"
   ]
  },
  {
   "cell_type": "code",
   "execution_count": 9,
   "id": "e04d63d1",
   "metadata": {},
   "outputs": [
    {
     "data": {
      "text/plain": [
       "<sqlite3.Cursor at 0x1f002a68840>"
      ]
     },
     "execution_count": 9,
     "metadata": {},
     "output_type": "execute_result"
    }
   ],
   "source": [
    "cursor.execute('''select * from Ages''')"
   ]
  },
  {
   "cell_type": "code",
   "execution_count": 10,
   "id": "e3eb34e0",
   "metadata": {},
   "outputs": [
    {
     "name": "stdout",
     "output_type": "stream",
     "text": [
      "('Mara', 28)\n",
      "('Otto', 33)\n",
      "('Fyn', 31)\n",
      "('Neshawn', 17)\n",
      "('Komal', 30)\n"
     ]
    }
   ],
   "source": [
    "rows=cursor.fetchall()\n",
    "\n",
    "for row in rows:\n",
    "    print(row)"
   ]
  },
  {
   "cell_type": "code",
   "execution_count": 14,
   "id": "973da36f",
   "metadata": {},
   "outputs": [],
   "source": [
    "###4.\tReturning the result in the output with the hex encoded value"
   ]
  },
  {
   "cell_type": "code",
   "execution_count": 11,
   "id": "5f6fd1a5",
   "metadata": {},
   "outputs": [
    {
     "data": {
      "text/plain": [
       "<sqlite3.Cursor at 0x1f002a68840>"
      ]
     },
     "execution_count": 11,
     "metadata": {},
     "output_type": "execute_result"
    }
   ],
   "source": [
    "cursor.execute('''SELECT hex(name || age) AS X FROM Ages ORDER BY X''')"
   ]
  },
  {
   "cell_type": "code",
   "execution_count": 12,
   "id": "65b83b7b",
   "metadata": {},
   "outputs": [
    {
     "name": "stdout",
     "output_type": "stream",
     "text": [
      "('46796E3331',)\n",
      "('4B6F6D616C3330',)\n",
      "('4D6172613238',)\n",
      "('4E65736861776E3137',)\n",
      "('4F74746F3333',)\n"
     ]
    }
   ],
   "source": [
    "rows=cursor.fetchall()\n",
    "\n",
    "for row in rows:\n",
    "    print(row)"
   ]
  },
  {
   "cell_type": "code",
   "execution_count": null,
   "id": "995d7c80",
   "metadata": {},
   "outputs": [],
   "source": []
  }
 ],
 "metadata": {
  "kernelspec": {
   "display_name": "Python 3 (ipykernel)",
   "language": "python",
   "name": "python3"
  },
  "language_info": {
   "codemirror_mode": {
    "name": "ipython",
    "version": 3
   },
   "file_extension": ".py",
   "mimetype": "text/x-python",
   "name": "python",
   "nbconvert_exporter": "python",
   "pygments_lexer": "ipython3",
   "version": "3.11.5"
  }
 },
 "nbformat": 4,
 "nbformat_minor": 5
}
